{
 "cells": [
  {
   "cell_type": "code",
   "execution_count": 8,
   "metadata": {},
   "outputs": [
    {
     "name": "stdout",
     "output_type": "stream",
     "text": [
      "Connected to Elasticsearch!\n",
      "{'cluster_name': 'docker-cluster',\n",
      " 'cluster_uuid': 'nkRHUCJSQ-O3ADkv3ZPOkw',\n",
      " 'name': '118de91b32d2',\n",
      " 'tagline': 'You Know, for Search',\n",
      " 'version': {'build_date': '2024-08-05T10:05:34.233336849Z',\n",
      "             'build_flavor': 'default',\n",
      "             'build_hash': '1a77947f34deddb41af25e6f0ddb8e830159c179',\n",
      "             'build_snapshot': False,\n",
      "             'build_type': 'docker',\n",
      "             'lucene_version': '9.11.1',\n",
      "             'minimum_index_compatibility_version': '7.0.0',\n",
      "             'minimum_wire_compatibility_version': '7.17.0',\n",
      "             'number': '8.15.0'}}\n"
     ]
    }
   ],
   "source": [
    "from pprint import pprint\n",
    "from elasticsearch import Elasticsearch\n",
    "\n",
    "es = Elasticsearch('http://localhost:9200')\n",
    "client_info = es.info()\n",
    "print('Connected to Elasticsearch!')\n",
    "pprint(client_info.body)"
   ]
  },
  {
   "cell_type": "markdown",
   "metadata": {},
   "source": [
    "# Time series data stream"
   ]
  },
  {
   "cell_type": "code",
   "execution_count": 9,
   "metadata": {},
   "outputs": [
    {
     "name": "stdout",
     "output_type": "stream",
     "text": [
      "{'acknowledged': True}\n"
     ]
    }
   ],
   "source": [
    "from pprint import pprint\n",
    "\n",
    "policy = {\n",
    "    \"phases\": {\n",
    "        \"hot\": {\n",
    "            \"actions\": {\n",
    "                \"rollover\": {\n",
    "                    \"max_age\": \"5m\",\n",
    "                }\n",
    "            }\n",
    "        },\n",
    "        \"delete\": {\n",
    "            \"min_age\": \"20m\",\n",
    "            \"actions\": {\n",
    "                \"delete\": {}\n",
    "            }\n",
    "        }\n",
    "    }\n",
    "}\n",
    "\n",
    "response = es.ilm.put_lifecycle(name=\"cpu_usage_policy_v2\", policy=policy)\n",
    "pprint(response.body)"
   ]
  },
  {
   "cell_type": "code",
   "execution_count": 10,
   "metadata": {},
   "outputs": [
    {
     "name": "stdout",
     "output_type": "stream",
     "text": [
      "{'acknowledged': True}\n"
     ]
    }
   ],
   "source": [
    "response = es.indices.put_index_template(\n",
    "    name=\"cpu_example_template\",\n",
    "    index_patterns=[\n",
    "        \"cpu_example_template*\"\n",
    "    ],\n",
    "    data_stream={},\n",
    "    template={\n",
    "        \"settings\": {\n",
    "            \"index.mode\": \"time_series\",  # Enable time series data mode\n",
    "            \"index.lifecycle.name\": \"cpu_usage_policy_v2\",  # Apply the ILM policy\n",
    "        },\n",
    "        \"mappings\": {\n",
    "            \"properties\": {\n",
    "                \"@timestamp\": {\n",
    "                    \"type\": \"date\"\n",
    "                },\n",
    "                \"cpu_usage\": {\n",
    "                    \"type\": \"float\",\n",
    "                    \"time_series_metric\": \"gauge\"\n",
    "                },\n",
    "                \"cpu_name\": {\n",
    "                    \"type\": \"keyword\",\n",
    "                    \"time_series_dimension\": True\n",
    "                }\n",
    "            }\n",
    "        }\n",
    "    },\n",
    "    priority=500,  # A priority higher than 200 to avoid collisions with built-in templates\n",
    "    meta={\n",
    "        \"description\": \"Template for CPU usage data\",\n",
    "    },\n",
    "    allow_auto_create=True\n",
    ")\n",
    "pprint(response.body)"
   ]
  },
  {
   "cell_type": "code",
   "execution_count": null,
   "metadata": {},
   "outputs": [],
   "source": [
    "import psutil\n",
    "from datetime import datetime\n",
    "\n",
    "\n",
    "index_alias = \"cpu_example_template\"\n",
    "while True:\n",
    "    document = {\n",
    "        \"@timestamp\": datetime.utcnow(),\n",
    "        \"cpu_usage\": psutil.cpu_percent(interval=0.1),\n",
    "        \"cpu_name\": \"i5-11400H\"\n",
    "    }\n",
    "\n",
    "    es.index(index=index_alias, document=document, refresh=True)"
   ]
  }
 ],
 "metadata": {
  "kernelspec": {
   "display_name": "Python 3",
   "language": "python",
   "name": "python3"
  },
  "language_info": {
   "codemirror_mode": {
    "name": "ipython",
    "version": 3
   },
   "file_extension": ".py",
   "mimetype": "text/x-python",
   "name": "python",
   "nbconvert_exporter": "python",
   "pygments_lexer": "ipython3",
   "version": "3.11.0"
  }
 },
 "nbformat": 4,
 "nbformat_minor": 2
}
