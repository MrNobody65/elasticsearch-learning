{
 "cells": [
  {
   "cell_type": "code",
   "execution_count": 1,
   "metadata": {},
   "outputs": [
    {
     "name": "stdout",
     "output_type": "stream",
     "text": [
      "Connected to Elasticsearch!\n",
      "{'cluster_name': 'docker-cluster',\n",
      " 'cluster_uuid': 'ZLPKoMvyRwO3jn9eeAD8Ug',\n",
      " 'name': '310ad8ef32ea',\n",
      " 'tagline': 'You Know, for Search',\n",
      " 'version': {'build_date': '2024-08-05T10:05:34.233336849Z',\n",
      "             'build_flavor': 'default',\n",
      "             'build_hash': '1a77947f34deddb41af25e6f0ddb8e830159c179',\n",
      "             'build_snapshot': False,\n",
      "             'build_type': 'docker',\n",
      "             'lucene_version': '9.11.1',\n",
      "             'minimum_index_compatibility_version': '7.0.0',\n",
      "             'minimum_wire_compatibility_version': '7.17.0',\n",
      "             'number': '8.15.0'}}\n"
     ]
    }
   ],
   "source": [
    "from pprint import pprint\n",
    "from elasticsearch import Elasticsearch\n",
    "\n",
    "es = Elasticsearch('http://localhost:9200')\n",
    "client_info = es.info()\n",
    "print('Connected to Elasticsearch!')\n",
    "pprint(client_info.body)"
   ]
  },
  {
   "cell_type": "markdown",
   "metadata": {},
   "source": [
    "# Deep pagination"
   ]
  },
  {
   "cell_type": "code",
   "execution_count": 2,
   "metadata": {},
   "outputs": [
    {
     "data": {
      "text/plain": [
       "ObjectApiResponse({'acknowledged': True, 'shards_acknowledged': True, 'index': 'my_index'})"
      ]
     },
     "execution_count": 2,
     "metadata": {},
     "output_type": "execute_result"
    }
   ],
   "source": [
    "index_name = 'my_index'\n",
    "mapping = {\n",
    "    \"mappings\": {\n",
    "        \"properties\": {\n",
    "            \"timestamp\": {\"type\": \"date\"},\n",
    "            \"value\": {\"type\": \"float\"},\n",
    "            \"category\": {\"type\": \"keyword\"},\n",
    "            \"description\": {\"type\": \"text\"},\n",
    "            \"id\": {\"type\": \"keyword\"},\n",
    "        }\n",
    "    },\n",
    "}\n",
    "\n",
    "es.indices.delete(index=index_name, ignore_unavailable=True)\n",
    "es.indices.create(index=index_name, body=mapping)"
   ]
  },
  {
   "cell_type": "code",
   "execution_count": 3,
   "metadata": {},
   "outputs": [],
   "source": [
    "base_documents = [\n",
    "    {\n",
    "        \"category\": \"A\",\n",
    "        \"value\": 100,\n",
    "        \"description\": \"First sample document\"\n",
    "    },\n",
    "    {\n",
    "        \"category\": \"B\",\n",
    "        \"value\": 200,\n",
    "        \"description\": \"Second sample document\"\n",
    "    },\n",
    "    {\n",
    "        \"category\": \"C\",\n",
    "        \"value\": 300,\n",
    "        \"description\": \"Third sample document\"\n",
    "    },\n",
    "    {\n",
    "        \"category\": \"D\",\n",
    "        \"value\": 400,\n",
    "        \"description\": \"Fourth sample document\"\n",
    "    },\n",
    "    {\n",
    "        \"category\": \"E\",\n",
    "        \"value\": 500,\n",
    "        \"description\": \"Fifth sample document\"\n",
    "    }\n",
    "]"
   ]
  },
  {
   "cell_type": "code",
   "execution_count": 4,
   "metadata": {},
   "outputs": [
    {
     "name": "stdout",
     "output_type": "stream",
     "text": [
      "Generated 100000 documents\n"
     ]
    }
   ],
   "source": [
    "import random\n",
    "from datetime import datetime, timedelta\n",
    "\n",
    "\n",
    "def generate_bulk_data(base_documents, target_size=100_000):\n",
    "    documents = []\n",
    "    base_count = len(base_documents)\n",
    "    duplications_needed = target_size // base_count\n",
    "\n",
    "    base_timestamp = datetime.now()\n",
    "\n",
    "    for i in range(duplications_needed):\n",
    "        for document in base_documents:\n",
    "            new_doc = document.copy()\n",
    "            new_doc['id'] = f\"doc_{len(documents)}\"\n",
    "            new_doc['timestamp'] = (\n",
    "                base_timestamp - timedelta(minutes=len(documents))).isoformat()\n",
    "            new_doc['value'] = document['value'] + random.uniform(-10, 10)\n",
    "            documents.append(new_doc)\n",
    "\n",
    "    return documents\n",
    "\n",
    "\n",
    "documents = generate_bulk_data(base_documents, target_size=100_000)\n",
    "print(f\"Generated {len(documents)} documents\")"
   ]
  },
  {
   "cell_type": "code",
   "execution_count": 5,
   "metadata": {},
   "outputs": [
    {
     "name": "stderr",
     "output_type": "stream",
     "text": [
      "100%|██████████| 100000/100000 [00:00<00:00, 721999.42it/s]\n"
     ]
    },
    {
     "name": "stdout",
     "output_type": "stream",
     "text": [
      "False\n"
     ]
    }
   ],
   "source": [
    "from tqdm import tqdm\n",
    "\n",
    "operations = []\n",
    "for document in tqdm(documents, total=len(documents)):\n",
    "    operations.append({'index': {'_index': index_name}})\n",
    "    operations.append(document)\n",
    "\n",
    "response = es.bulk(operations=operations)\n",
    "pprint(response.body[\"errors\"])"
   ]
  },
  {
   "cell_type": "code",
   "execution_count": 6,
   "metadata": {},
   "outputs": [
    {
     "name": "stdout",
     "output_type": "stream",
     "text": [
      "Indexed 100000 documents\n"
     ]
    }
   ],
   "source": [
    "es.indices.refresh(index=index_name)\n",
    "\n",
    "count = es.count(index=index_name)[\"count\"]\n",
    "print(f\"Indexed {count} documents\")"
   ]
  },
  {
   "cell_type": "markdown",
   "metadata": {},
   "source": [
    "## From/Size method"
   ]
  },
  {
   "cell_type": "code",
   "execution_count": 7,
   "metadata": {},
   "outputs": [
    {
     "name": "stdout",
     "output_type": "stream",
     "text": [
      "ID: doc_0\n",
      "ID: doc_1\n",
      "ID: doc_2\n",
      "ID: doc_3\n",
      "ID: doc_4\n",
      "ID: doc_5\n",
      "ID: doc_6\n",
      "ID: doc_7\n",
      "ID: doc_8\n",
      "ID: doc_9\n"
     ]
    }
   ],
   "source": [
    "response = es.search(\n",
    "    index=index_name,\n",
    "    body={\n",
    "        \"from\": 0,\n",
    "        \"size\": 10,\n",
    "        \"sort\": [\n",
    "            {\"timestamp\": \"desc\"},\n",
    "            {\"id\": \"desc\"}\n",
    "        ]\n",
    "    }\n",
    ")\n",
    "\n",
    "hits = response[\"hits\"][\"hits\"]\n",
    "for hit in hits:\n",
    "    print(f\"ID: {hit['_source']['id']}\")"
   ]
  },
  {
   "cell_type": "code",
   "execution_count": 8,
   "metadata": {},
   "outputs": [
    {
     "name": "stdout",
     "output_type": "stream",
     "text": [
      "ID: doc_10\n",
      "ID: doc_11\n",
      "ID: doc_12\n",
      "ID: doc_13\n",
      "ID: doc_14\n",
      "ID: doc_15\n",
      "ID: doc_16\n",
      "ID: doc_17\n",
      "ID: doc_18\n",
      "ID: doc_19\n"
     ]
    }
   ],
   "source": [
    "response = es.search(\n",
    "    index=index_name,\n",
    "    body={\n",
    "        \"from\": 10,\n",
    "        \"size\": 10,\n",
    "        \"sort\": [\n",
    "            {\"timestamp\": \"desc\"},\n",
    "            {\"id\": \"desc\"}\n",
    "        ]\n",
    "    }\n",
    ")\n",
    "\n",
    "hits = response[\"hits\"][\"hits\"]\n",
    "for hit in hits:\n",
    "    print(f\"ID: {hit['_source']['id']}\")"
   ]
  },
  {
   "cell_type": "markdown",
   "metadata": {},
   "source": [
    "## Search after method"
   ]
  },
  {
   "cell_type": "code",
   "execution_count": 9,
   "metadata": {},
   "outputs": [
    {
     "name": "stdout",
     "output_type": "stream",
     "text": [
      "ID: doc_0\n",
      "Sort values: [1731781980938, 'doc_0']\n",
      "\n",
      "ID: doc_1\n",
      "Sort values: [1731781920938, 'doc_1']\n",
      "\n",
      "ID: doc_2\n",
      "Sort values: [1731781860938, 'doc_2']\n",
      "\n",
      "ID: doc_3\n",
      "Sort values: [1731781800938, 'doc_3']\n",
      "\n",
      "ID: doc_4\n",
      "Sort values: [1731781740938, 'doc_4']\n",
      "\n",
      "ID: doc_5\n",
      "Sort values: [1731781680938, 'doc_5']\n",
      "\n",
      "ID: doc_6\n",
      "Sort values: [1731781620938, 'doc_6']\n",
      "\n",
      "ID: doc_7\n",
      "Sort values: [1731781560938, 'doc_7']\n",
      "\n",
      "ID: doc_8\n",
      "Sort values: [1731781500938, 'doc_8']\n",
      "\n",
      "ID: doc_9\n",
      "Sort values: [1731781440938, 'doc_9']\n",
      "\n"
     ]
    }
   ],
   "source": [
    "response = es.search(\n",
    "    index=index_name,\n",
    "    body={\n",
    "        \"size\": 10,\n",
    "        \"sort\": [\n",
    "            {\"timestamp\": \"desc\"},\n",
    "            {\"id\": \"desc\"}\n",
    "        ]\n",
    "    }\n",
    ")\n",
    "\n",
    "hits = response[\"hits\"][\"hits\"]\n",
    "for hit in hits:\n",
    "    print(f\"ID: {hit['_source']['id']}\")\n",
    "    print(f\"Sort values: {hit['sort']}\")\n",
    "    print()"
   ]
  },
  {
   "cell_type": "code",
   "execution_count": 10,
   "metadata": {},
   "outputs": [
    {
     "name": "stdout",
     "output_type": "stream",
     "text": [
      "ID: doc_10\n",
      "Sort values: [1731781380938, 'doc_10']\n",
      "\n",
      "ID: doc_11\n",
      "Sort values: [1731781320938, 'doc_11']\n",
      "\n",
      "ID: doc_12\n",
      "Sort values: [1731781260938, 'doc_12']\n",
      "\n",
      "ID: doc_13\n",
      "Sort values: [1731781200938, 'doc_13']\n",
      "\n",
      "ID: doc_14\n",
      "Sort values: [1731781140938, 'doc_14']\n",
      "\n",
      "ID: doc_15\n",
      "Sort values: [1731781080938, 'doc_15']\n",
      "\n",
      "ID: doc_16\n",
      "Sort values: [1731781020938, 'doc_16']\n",
      "\n",
      "ID: doc_17\n",
      "Sort values: [1731780960938, 'doc_17']\n",
      "\n",
      "ID: doc_18\n",
      "Sort values: [1731780900938, 'doc_18']\n",
      "\n",
      "ID: doc_19\n",
      "Sort values: [1731780840938, 'doc_19']\n",
      "\n"
     ]
    }
   ],
   "source": [
    "last_sort_values = hits[-1][\"sort\"]\n",
    "response = es.search(\n",
    "    index=index_name,\n",
    "    body={\n",
    "        \"size\": 10,\n",
    "        \"sort\": [\n",
    "            {\"timestamp\": \"desc\"},\n",
    "            {\"id\": \"desc\"}\n",
    "        ],\n",
    "        \"search_after\": last_sort_values\n",
    "    }\n",
    ")\n",
    "\n",
    "hits = response[\"hits\"][\"hits\"]\n",
    "for hit in hits:\n",
    "    print(f\"ID: {hit['_source']['id']}\")\n",
    "    print(f\"Sort values: {hit['sort']}\")\n",
    "    print()"
   ]
  },
  {
   "cell_type": "markdown",
   "metadata": {},
   "source": [
    "## Benchmark"
   ]
  },
  {
   "cell_type": "markdown",
   "metadata": {},
   "source": [
    "### From/Size method"
   ]
  },
  {
   "cell_type": "code",
   "execution_count": 11,
   "metadata": {},
   "outputs": [],
   "source": [
    "import time\n",
    "from tqdm import tqdm\n",
    "\n",
    "\n",
    "def test_from_size_pagination(es, index_name, page_size=100, max_pages=50):\n",
    "    timings = []\n",
    "\n",
    "    for page in tqdm(range(max_pages)):\n",
    "        start_time = time.time()\n",
    "\n",
    "        _ = es.search(\n",
    "            index=index_name,\n",
    "            body={\n",
    "                \"from\": page * page_size,\n",
    "                \"size\": page_size,\n",
    "                \"sort\": [\n",
    "                    {\"timestamp\": \"desc\"},\n",
    "                    {\"id\": \"desc\"}\n",
    "                ]\n",
    "            }\n",
    "        )\n",
    "\n",
    "        end_time = time.time()\n",
    "        final_time = (end_time - start_time) * 1000\n",
    "        timings.append((page + 1, final_time))\n",
    "\n",
    "    return timings"
   ]
  },
  {
   "cell_type": "code",
   "execution_count": 12,
   "metadata": {},
   "outputs": [
    {
     "name": "stderr",
     "output_type": "stream",
     "text": [
      " 20%|██        | 10/50 [00:00<00:01, 32.88it/s]\n"
     ]
    },
    {
     "ename": "BadRequestError",
     "evalue": "BadRequestError(400, 'search_phase_execution_exception', 'Result window is too large, from + size must be less than or equal to: [10000] but was [11000]. See the scroll api for a more efficient way to request large data sets. This limit can be set by changing the [index.max_result_window] index level setting.')",
     "output_type": "error",
     "traceback": [
      "\u001b[1;31m---------------------------------------------------------------------------\u001b[0m",
      "\u001b[1;31mBadRequestError\u001b[0m                           Traceback (most recent call last)",
      "Cell \u001b[1;32mIn[12], line 1\u001b[0m\n\u001b[1;32m----> 1\u001b[0m from_size_timings \u001b[38;5;241m=\u001b[39m \u001b[43mtest_from_size_pagination\u001b[49m\u001b[43m(\u001b[49m\n\u001b[0;32m      2\u001b[0m \u001b[43m    \u001b[49m\u001b[43mes\u001b[49m\u001b[38;5;241;43m=\u001b[39;49m\u001b[43mes\u001b[49m\u001b[43m,\u001b[49m\n\u001b[0;32m      3\u001b[0m \u001b[43m    \u001b[49m\u001b[43mindex_name\u001b[49m\u001b[38;5;241;43m=\u001b[39;49m\u001b[43mindex_name\u001b[49m\u001b[43m,\u001b[49m\n\u001b[0;32m      4\u001b[0m \u001b[43m    \u001b[49m\u001b[43mpage_size\u001b[49m\u001b[38;5;241;43m=\u001b[39;49m\u001b[38;5;241;43m1000\u001b[39;49m\u001b[43m,\u001b[49m\n\u001b[0;32m      5\u001b[0m \u001b[43m    \u001b[49m\u001b[43mmax_pages\u001b[49m\u001b[38;5;241;43m=\u001b[39;49m\u001b[38;5;241;43m50\u001b[39;49m\n\u001b[0;32m      6\u001b[0m \u001b[43m)\u001b[49m\n",
      "Cell \u001b[1;32mIn[11], line 11\u001b[0m, in \u001b[0;36mtest_from_size_pagination\u001b[1;34m(es, index_name, page_size, max_pages)\u001b[0m\n\u001b[0;32m      8\u001b[0m \u001b[38;5;28;01mfor\u001b[39;00m page \u001b[38;5;129;01min\u001b[39;00m tqdm(\u001b[38;5;28mrange\u001b[39m(max_pages)):\n\u001b[0;32m      9\u001b[0m     start_time \u001b[38;5;241m=\u001b[39m time\u001b[38;5;241m.\u001b[39mtime()\n\u001b[1;32m---> 11\u001b[0m     _ \u001b[38;5;241m=\u001b[39m \u001b[43mes\u001b[49m\u001b[38;5;241;43m.\u001b[39;49m\u001b[43msearch\u001b[49m\u001b[43m(\u001b[49m\n\u001b[0;32m     12\u001b[0m \u001b[43m        \u001b[49m\u001b[43mindex\u001b[49m\u001b[38;5;241;43m=\u001b[39;49m\u001b[43mindex_name\u001b[49m\u001b[43m,\u001b[49m\n\u001b[0;32m     13\u001b[0m \u001b[43m        \u001b[49m\u001b[43mbody\u001b[49m\u001b[38;5;241;43m=\u001b[39;49m\u001b[43m{\u001b[49m\n\u001b[0;32m     14\u001b[0m \u001b[43m            \u001b[49m\u001b[38;5;124;43m\"\u001b[39;49m\u001b[38;5;124;43mfrom\u001b[39;49m\u001b[38;5;124;43m\"\u001b[39;49m\u001b[43m:\u001b[49m\u001b[43m \u001b[49m\u001b[43mpage\u001b[49m\u001b[43m \u001b[49m\u001b[38;5;241;43m*\u001b[39;49m\u001b[43m \u001b[49m\u001b[43mpage_size\u001b[49m\u001b[43m,\u001b[49m\n\u001b[0;32m     15\u001b[0m \u001b[43m            \u001b[49m\u001b[38;5;124;43m\"\u001b[39;49m\u001b[38;5;124;43msize\u001b[39;49m\u001b[38;5;124;43m\"\u001b[39;49m\u001b[43m:\u001b[49m\u001b[43m \u001b[49m\u001b[43mpage_size\u001b[49m\u001b[43m,\u001b[49m\n\u001b[0;32m     16\u001b[0m \u001b[43m            \u001b[49m\u001b[38;5;124;43m\"\u001b[39;49m\u001b[38;5;124;43msort\u001b[39;49m\u001b[38;5;124;43m\"\u001b[39;49m\u001b[43m:\u001b[49m\u001b[43m \u001b[49m\u001b[43m[\u001b[49m\n\u001b[0;32m     17\u001b[0m \u001b[43m                \u001b[49m\u001b[43m{\u001b[49m\u001b[38;5;124;43m\"\u001b[39;49m\u001b[38;5;124;43mtimestamp\u001b[39;49m\u001b[38;5;124;43m\"\u001b[39;49m\u001b[43m:\u001b[49m\u001b[43m \u001b[49m\u001b[38;5;124;43m\"\u001b[39;49m\u001b[38;5;124;43mdesc\u001b[39;49m\u001b[38;5;124;43m\"\u001b[39;49m\u001b[43m}\u001b[49m\u001b[43m,\u001b[49m\n\u001b[0;32m     18\u001b[0m \u001b[43m                \u001b[49m\u001b[43m{\u001b[49m\u001b[38;5;124;43m\"\u001b[39;49m\u001b[38;5;124;43mid\u001b[39;49m\u001b[38;5;124;43m\"\u001b[39;49m\u001b[43m:\u001b[49m\u001b[43m \u001b[49m\u001b[38;5;124;43m\"\u001b[39;49m\u001b[38;5;124;43mdesc\u001b[39;49m\u001b[38;5;124;43m\"\u001b[39;49m\u001b[43m}\u001b[49m\n\u001b[0;32m     19\u001b[0m \u001b[43m            \u001b[49m\u001b[43m]\u001b[49m\n\u001b[0;32m     20\u001b[0m \u001b[43m        \u001b[49m\u001b[43m}\u001b[49m\n\u001b[0;32m     21\u001b[0m \u001b[43m    \u001b[49m\u001b[43m)\u001b[49m\n\u001b[0;32m     23\u001b[0m     end_time \u001b[38;5;241m=\u001b[39m time\u001b[38;5;241m.\u001b[39mtime()\n\u001b[0;32m     24\u001b[0m     final_time \u001b[38;5;241m=\u001b[39m (end_time \u001b[38;5;241m-\u001b[39m start_time) \u001b[38;5;241m*\u001b[39m \u001b[38;5;241m1000\u001b[39m\n",
      "File \u001b[1;32md:\\Projects\\elasticsearch-learning\\venv\\Lib\\site-packages\\elasticsearch\\_sync\\client\\utils.py:455\u001b[0m, in \u001b[0;36m_rewrite_parameters.<locals>.wrapper.<locals>.wrapped\u001b[1;34m(*args, **kwargs)\u001b[0m\n\u001b[0;32m    452\u001b[0m         \u001b[38;5;28;01mexcept\u001b[39;00m \u001b[38;5;167;01mKeyError\u001b[39;00m:\n\u001b[0;32m    453\u001b[0m             \u001b[38;5;28;01mpass\u001b[39;00m\n\u001b[1;32m--> 455\u001b[0m \u001b[38;5;28;01mreturn\u001b[39;00m \u001b[43mapi\u001b[49m\u001b[43m(\u001b[49m\u001b[38;5;241;43m*\u001b[39;49m\u001b[43margs\u001b[49m\u001b[43m,\u001b[49m\u001b[43m \u001b[49m\u001b[38;5;241;43m*\u001b[39;49m\u001b[38;5;241;43m*\u001b[39;49m\u001b[43mkwargs\u001b[49m\u001b[43m)\u001b[49m\n",
      "File \u001b[1;32md:\\Projects\\elasticsearch-learning\\venv\\Lib\\site-packages\\elasticsearch\\_sync\\client\\__init__.py:4219\u001b[0m, in \u001b[0;36mElasticsearch.search\u001b[1;34m(self, index, aggregations, aggs, allow_no_indices, allow_partial_search_results, analyze_wildcard, analyzer, batched_reduce_size, ccs_minimize_roundtrips, collapse, default_operator, df, docvalue_fields, error_trace, expand_wildcards, explain, ext, fields, filter_path, force_synthetic_source, from_, highlight, human, ignore_throttled, ignore_unavailable, include_named_queries_score, indices_boost, knn, lenient, max_concurrent_shard_requests, min_compatible_shard_node, min_score, pit, post_filter, pre_filter_shard_size, preference, pretty, profile, q, query, rank, request_cache, rescore, rest_total_hits_as_int, retriever, routing, runtime_mappings, script_fields, scroll, search_after, search_type, seq_no_primary_term, size, slice, sort, source, source_excludes, source_includes, stats, stored_fields, suggest, suggest_field, suggest_mode, suggest_size, suggest_text, terminate_after, timeout, track_scores, track_total_hits, typed_keys, version, body)\u001b[0m\n\u001b[0;32m   4217\u001b[0m \u001b[38;5;28;01mif\u001b[39;00m __body \u001b[38;5;129;01mis\u001b[39;00m \u001b[38;5;129;01mnot\u001b[39;00m \u001b[38;5;28;01mNone\u001b[39;00m:\n\u001b[0;32m   4218\u001b[0m     __headers[\u001b[38;5;124m\"\u001b[39m\u001b[38;5;124mcontent-type\u001b[39m\u001b[38;5;124m\"\u001b[39m] \u001b[38;5;241m=\u001b[39m \u001b[38;5;124m\"\u001b[39m\u001b[38;5;124mapplication/json\u001b[39m\u001b[38;5;124m\"\u001b[39m\n\u001b[1;32m-> 4219\u001b[0m \u001b[38;5;28;01mreturn\u001b[39;00m \u001b[38;5;28;43mself\u001b[39;49m\u001b[38;5;241;43m.\u001b[39;49m\u001b[43mperform_request\u001b[49m\u001b[43m(\u001b[49m\u001b[43m  \u001b[49m\u001b[38;5;66;43;03m# type: ignore[return-value]\u001b[39;49;00m\n\u001b[0;32m   4220\u001b[0m \u001b[43m    \u001b[49m\u001b[38;5;124;43m\"\u001b[39;49m\u001b[38;5;124;43mPOST\u001b[39;49m\u001b[38;5;124;43m\"\u001b[39;49m\u001b[43m,\u001b[49m\n\u001b[0;32m   4221\u001b[0m \u001b[43m    \u001b[49m\u001b[43m__path\u001b[49m\u001b[43m,\u001b[49m\n\u001b[0;32m   4222\u001b[0m \u001b[43m    \u001b[49m\u001b[43mparams\u001b[49m\u001b[38;5;241;43m=\u001b[39;49m\u001b[43m__query\u001b[49m\u001b[43m,\u001b[49m\n\u001b[0;32m   4223\u001b[0m \u001b[43m    \u001b[49m\u001b[43mheaders\u001b[49m\u001b[38;5;241;43m=\u001b[39;49m\u001b[43m__headers\u001b[49m\u001b[43m,\u001b[49m\n\u001b[0;32m   4224\u001b[0m \u001b[43m    \u001b[49m\u001b[43mbody\u001b[49m\u001b[38;5;241;43m=\u001b[39;49m\u001b[43m__body\u001b[49m\u001b[43m,\u001b[49m\n\u001b[0;32m   4225\u001b[0m \u001b[43m    \u001b[49m\u001b[43mendpoint_id\u001b[49m\u001b[38;5;241;43m=\u001b[39;49m\u001b[38;5;124;43m\"\u001b[39;49m\u001b[38;5;124;43msearch\u001b[39;49m\u001b[38;5;124;43m\"\u001b[39;49m\u001b[43m,\u001b[49m\n\u001b[0;32m   4226\u001b[0m \u001b[43m    \u001b[49m\u001b[43mpath_parts\u001b[49m\u001b[38;5;241;43m=\u001b[39;49m\u001b[43m__path_parts\u001b[49m\u001b[43m,\u001b[49m\n\u001b[0;32m   4227\u001b[0m \u001b[43m\u001b[49m\u001b[43m)\u001b[49m\n",
      "File \u001b[1;32md:\\Projects\\elasticsearch-learning\\venv\\Lib\\site-packages\\elasticsearch\\_sync\\client\\_base.py:271\u001b[0m, in \u001b[0;36mBaseClient.perform_request\u001b[1;34m(self, method, path, params, headers, body, endpoint_id, path_parts)\u001b[0m\n\u001b[0;32m    255\u001b[0m \u001b[38;5;28;01mdef\u001b[39;00m \u001b[38;5;21mperform_request\u001b[39m(\n\u001b[0;32m    256\u001b[0m     \u001b[38;5;28mself\u001b[39m,\n\u001b[0;32m    257\u001b[0m     method: \u001b[38;5;28mstr\u001b[39m,\n\u001b[1;32m   (...)\u001b[0m\n\u001b[0;32m    264\u001b[0m     path_parts: Optional[Mapping[\u001b[38;5;28mstr\u001b[39m, Any]] \u001b[38;5;241m=\u001b[39m \u001b[38;5;28;01mNone\u001b[39;00m,\n\u001b[0;32m    265\u001b[0m ) \u001b[38;5;241m-\u001b[39m\u001b[38;5;241m>\u001b[39m ApiResponse[Any]:\n\u001b[0;32m    266\u001b[0m     \u001b[38;5;28;01mwith\u001b[39;00m \u001b[38;5;28mself\u001b[39m\u001b[38;5;241m.\u001b[39m_otel\u001b[38;5;241m.\u001b[39mspan(\n\u001b[0;32m    267\u001b[0m         method,\n\u001b[0;32m    268\u001b[0m         endpoint_id\u001b[38;5;241m=\u001b[39mendpoint_id,\n\u001b[0;32m    269\u001b[0m         path_parts\u001b[38;5;241m=\u001b[39mpath_parts \u001b[38;5;129;01mor\u001b[39;00m {},\n\u001b[0;32m    270\u001b[0m     ) \u001b[38;5;28;01mas\u001b[39;00m otel_span:\n\u001b[1;32m--> 271\u001b[0m         response \u001b[38;5;241m=\u001b[39m \u001b[38;5;28;43mself\u001b[39;49m\u001b[38;5;241;43m.\u001b[39;49m\u001b[43m_perform_request\u001b[49m\u001b[43m(\u001b[49m\n\u001b[0;32m    272\u001b[0m \u001b[43m            \u001b[49m\u001b[43mmethod\u001b[49m\u001b[43m,\u001b[49m\n\u001b[0;32m    273\u001b[0m \u001b[43m            \u001b[49m\u001b[43mpath\u001b[49m\u001b[43m,\u001b[49m\n\u001b[0;32m    274\u001b[0m \u001b[43m            \u001b[49m\u001b[43mparams\u001b[49m\u001b[38;5;241;43m=\u001b[39;49m\u001b[43mparams\u001b[49m\u001b[43m,\u001b[49m\n\u001b[0;32m    275\u001b[0m \u001b[43m            \u001b[49m\u001b[43mheaders\u001b[49m\u001b[38;5;241;43m=\u001b[39;49m\u001b[43mheaders\u001b[49m\u001b[43m,\u001b[49m\n\u001b[0;32m    276\u001b[0m \u001b[43m            \u001b[49m\u001b[43mbody\u001b[49m\u001b[38;5;241;43m=\u001b[39;49m\u001b[43mbody\u001b[49m\u001b[43m,\u001b[49m\n\u001b[0;32m    277\u001b[0m \u001b[43m            \u001b[49m\u001b[43motel_span\u001b[49m\u001b[38;5;241;43m=\u001b[39;49m\u001b[43motel_span\u001b[49m\u001b[43m,\u001b[49m\n\u001b[0;32m    278\u001b[0m \u001b[43m        \u001b[49m\u001b[43m)\u001b[49m\n\u001b[0;32m    279\u001b[0m         otel_span\u001b[38;5;241m.\u001b[39mset_elastic_cloud_metadata(response\u001b[38;5;241m.\u001b[39mmeta\u001b[38;5;241m.\u001b[39mheaders)\n\u001b[0;32m    280\u001b[0m         \u001b[38;5;28;01mreturn\u001b[39;00m response\n",
      "File \u001b[1;32md:\\Projects\\elasticsearch-learning\\venv\\Lib\\site-packages\\elasticsearch\\_sync\\client\\_base.py:352\u001b[0m, in \u001b[0;36mBaseClient._perform_request\u001b[1;34m(self, method, path, params, headers, body, otel_span)\u001b[0m\n\u001b[0;32m    349\u001b[0m         \u001b[38;5;28;01mexcept\u001b[39;00m (\u001b[38;5;167;01mValueError\u001b[39;00m, \u001b[38;5;167;01mKeyError\u001b[39;00m, \u001b[38;5;167;01mTypeError\u001b[39;00m):\n\u001b[0;32m    350\u001b[0m             \u001b[38;5;28;01mpass\u001b[39;00m\n\u001b[1;32m--> 352\u001b[0m     \u001b[38;5;28;01mraise\u001b[39;00m HTTP_EXCEPTIONS\u001b[38;5;241m.\u001b[39mget(meta\u001b[38;5;241m.\u001b[39mstatus, ApiError)(\n\u001b[0;32m    353\u001b[0m         message\u001b[38;5;241m=\u001b[39mmessage, meta\u001b[38;5;241m=\u001b[39mmeta, body\u001b[38;5;241m=\u001b[39mresp_body\n\u001b[0;32m    354\u001b[0m     )\n\u001b[0;32m    356\u001b[0m \u001b[38;5;66;03m# 'X-Elastic-Product: Elasticsearch' should be on every 2XX response.\u001b[39;00m\n\u001b[0;32m    357\u001b[0m \u001b[38;5;28;01mif\u001b[39;00m \u001b[38;5;129;01mnot\u001b[39;00m \u001b[38;5;28mself\u001b[39m\u001b[38;5;241m.\u001b[39m_verified_elasticsearch:\n\u001b[0;32m    358\u001b[0m     \u001b[38;5;66;03m# If the header is set we mark the server as verified.\u001b[39;00m\n",
      "\u001b[1;31mBadRequestError\u001b[0m: BadRequestError(400, 'search_phase_execution_exception', 'Result window is too large, from + size must be less than or equal to: [10000] but was [11000]. See the scroll api for a more efficient way to request large data sets. This limit can be set by changing the [index.max_result_window] index level setting.')"
     ]
    }
   ],
   "source": [
    "from_size_timings = test_from_size_pagination(\n",
    "    es=es,\n",
    "    index_name=index_name,\n",
    "    page_size=1000,\n",
    "    max_pages=50\n",
    ")"
   ]
  },
  {
   "cell_type": "code",
   "execution_count": 21,
   "metadata": {},
   "outputs": [
    {
     "name": "stderr",
     "output_type": "stream",
     "text": [
      "100%|██████████| 50/50 [00:00<00:00, 91.37it/s] \n"
     ]
    }
   ],
   "source": [
    "from_size_timings = test_from_size_pagination(\n",
    "    es=es,\n",
    "    index_name=index_name,\n",
    "    page_size=200,\n",
    "    max_pages=50\n",
    ")"
   ]
  },
  {
   "cell_type": "code",
   "execution_count": 14,
   "metadata": {},
   "outputs": [],
   "source": [
    "def test_search_after_pagination(es, index_name, page_size=100, max_pages=50):\n",
    "    timings = []\n",
    "    search_after = None\n",
    "\n",
    "    for page in tqdm(range(max_pages)):\n",
    "        start_time = time.time()\n",
    "\n",
    "        body = {\n",
    "            \"size\": page_size,\n",
    "            \"sort\": [\n",
    "                {\"timestamp\": \"desc\"},\n",
    "                {\"id\": \"desc\"}\n",
    "            ]\n",
    "        }\n",
    "\n",
    "        if search_after:\n",
    "            body[\"search_after\"] = search_after\n",
    "\n",
    "        response = es.search(\n",
    "            index=index_name,\n",
    "            body=body\n",
    "        )\n",
    "\n",
    "        hits = response[\"hits\"][\"hits\"]\n",
    "        if hits:\n",
    "            search_after = hits[-1][\"sort\"]\n",
    "\n",
    "        end_time = time.time()\n",
    "        final_time = (end_time - start_time) * 1000\n",
    "        timings.append((page + 1, final_time))\n",
    "\n",
    "    return timings"
   ]
  },
  {
   "cell_type": "code",
   "execution_count": 22,
   "metadata": {},
   "outputs": [
    {
     "name": "stderr",
     "output_type": "stream",
     "text": [
      "100%|██████████| 50/50 [00:00<00:00, 142.24it/s]\n"
     ]
    }
   ],
   "source": [
    "search_after_timings = test_search_after_pagination(\n",
    "    es, index_name, page_size=200, max_pages=50)"
   ]
  },
  {
   "cell_type": "code",
   "execution_count": 23,
   "metadata": {},
   "outputs": [
    {
     "data": {
      "image/png": "[encoded data removed]",
      "text/plain": [
       "<Figure size 1200x600 with 1 Axes>"
      ]
     },
     "metadata": {},
     "output_type": "display_data"
    }
   ],
   "source": [
    "import matplotlib.pyplot as plt\n",
    "\n",
    "\n",
    "def plot_comparison(from_size_timings, search_after_timings):\n",
    "    plt.figure(figsize=(12, 6))\n",
    "\n",
    "    pages_from_size, times_from_size = zip(*from_size_timings)\n",
    "    pages_search_after, times_search_after = zip(*search_after_timings)\n",
    "\n",
    "    plt.plot(pages_from_size, times_from_size, 'b-', label='from/size')\n",
    "    plt.plot(pages_search_after, times_search_after,\n",
    "             'g-', label='search_after')\n",
    "\n",
    "    plt.xlabel('Page number')\n",
    "    plt.ylabel('Response time (milliseconds)')\n",
    "    plt.title('Pagination performance comparison')\n",
    "    plt.legend()\n",
    "    plt.grid(True)\n",
    "    plt.show()\n",
    "\n",
    "\n",
    "plot_comparison(from_size_timings, search_after_timings)"
   ]
  },
  {
   "cell_type": "code",
   "execution_count": 24,
   "metadata": {},
   "outputs": [
    {
     "name": "stdout",
     "output_type": "stream",
     "text": [
      "\n",
      "Performance statistics:\n",
      "\n",
      "- From/Size pagination:\n",
      "Average time: 10.880 milliseconds\n",
      "Maximum time: 14.755 milliseconds\n",
      "Minimum time: 7.493 milliseconds\n",
      "\n",
      "- Search after pagination:\n",
      "Average time: 7.009 milliseconds\n",
      "Maximum time: 9.238 milliseconds\n",
      "Minimum time: 5.986 milliseconds\n"
     ]
    }
   ],
   "source": [
    "def calculate_stats(from_size_timings, search_after_timings):\n",
    "    _, times_from_size = zip(*from_size_timings)\n",
    "    _, times_search_after = zip(*search_after_timings)\n",
    "\n",
    "    stats = {\n",
    "        'from_size': {\n",
    "            'avg_time': sum(times_from_size) / len(times_from_size),\n",
    "            'max_time': max(times_from_size),\n",
    "            'min_time': min(times_from_size)\n",
    "        },\n",
    "        'search_after': {\n",
    "            'avg_time': sum(times_search_after) / len(times_search_after),\n",
    "            'max_time': max(times_search_after),\n",
    "            'min_time': min(times_search_after)\n",
    "        }\n",
    "    }\n",
    "    return stats\n",
    "\n",
    "\n",
    "stats = calculate_stats(from_size_timings, search_after_timings)\n",
    "\n",
    "print(\"\\nPerformance statistics:\")\n",
    "print(\"\\n- From/Size pagination:\")\n",
    "print(f\"Average time: {stats['from_size']['avg_time']:.3f} milliseconds\")\n",
    "print(f\"Maximum time: {stats['from_size']['max_time']:.3f} milliseconds\")\n",
    "print(f\"Minimum time: {stats['from_size']['min_time']:.3f} milliseconds\")\n",
    "\n",
    "print(\"\\n- Search after pagination:\")\n",
    "print(f\"Average time: {stats['search_after']['avg_time']:.3f} milliseconds\")\n",
    "print(f\"Maximum time: {stats['search_after']['max_time']:.3f} milliseconds\")\n",
    "print(f\"Minimum time: {stats['search_after']['min_time']:.3f} milliseconds\")"
   ]
  },
  {
   "cell_type": "code",
   "execution_count": 25,
   "metadata": {},
   "outputs": [
    {
     "data": {
      "image/png": "[encoded data removed]",
      "text/plain": [
       "<Figure size 1200x600 with 1 Axes>"
      ]
     },
     "metadata": {},
     "output_type": "display_data"
    }
   ],
   "source": [
    "plt.figure(figsize=(12, 6))\n",
    "_, times_from_size = zip(*from_size_timings)\n",
    "_, times_search_after = zip(*search_after_timings)\n",
    "\n",
    "plt.hist(times_from_size, alpha=0.5, label='from/size', bins=20)\n",
    "plt.hist(times_search_after, alpha=0.5, label='search_after', bins=20)\n",
    "plt.xlabel('Response time (milliseconds)')\n",
    "plt.ylabel('Frequency')\n",
    "plt.title('Distribution of response times')\n",
    "plt.legend()\n",
    "plt.grid(True)\n",
    "plt.show()"
   ]
  },
  {
   "cell_type": "code",
   "execution_count": 26,
   "metadata": {},
   "outputs": [
    {
     "name": "stdout",
     "output_type": "stream",
     "text": [
      "\n",
      "Performance degradation (Last page time / First page time):\n",
      "- From/Size degradation factor   : 1.50x\n",
      "- Search after degradation factor: 0.83x\n"
     ]
    }
   ],
   "source": [
    "def calculate_degradation(timings):\n",
    "    first_page_time = timings[0][1]\n",
    "    last_page_time = timings[-1][1]\n",
    "    degradation_factor = last_page_time / first_page_time\n",
    "    return degradation_factor\n",
    "\n",
    "\n",
    "from_size_degradation = calculate_degradation(from_size_timings)\n",
    "search_after_degradation = calculate_degradation(search_after_timings)\n",
    "\n",
    "print(\"\\nPerformance degradation (Last page time / First page time):\")\n",
    "print(f\"- From/Size degradation factor   : {from_size_degradation:.2f}x\")\n",
    "print(f\"- Search after degradation factor: {search_after_degradation:.2f}x\")"
   ]
  }
 ],
 "metadata": {
  "kernelspec": {
   "display_name": "Python 3",
   "language": "python",
   "name": "python3"
  },
  "language_info": {
   "codemirror_mode": {
    "name": "ipython",
    "version": 3
   },
   "file_extension": ".py",
   "mimetype": "text/x-python",
   "name": "python",
   "nbconvert_exporter": "python",
   "pygments_lexer": "ipython3",
   "version": "3.11.0"
  }
 },
 "nbformat": 4,
 "nbformat_minor": 2
}
