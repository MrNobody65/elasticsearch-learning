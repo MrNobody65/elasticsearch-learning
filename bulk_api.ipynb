{
 "cells": [
  {
   "cell_type": "code",
   "execution_count": 1,
   "metadata": {},
   "outputs": [
    {
     "name": "stdout",
     "output_type": "stream",
     "text": [
      "Connected to Elasticsearch\n",
      "{'cluster_name': 'docker-cluster',\n",
      " 'cluster_uuid': 'ZLPKoMvyRwO3jn9eeAD8Ug',\n",
      " 'name': '310ad8ef32ea',\n",
      " 'tagline': 'You Know, for Search',\n",
      " 'version': {'build_date': '2024-08-05T10:05:34.233336849Z',\n",
      "             'build_flavor': 'default',\n",
      "             'build_hash': '1a77947f34deddb41af25e6f0ddb8e830159c179',\n",
      "             'build_snapshot': False,\n",
      "             'build_type': 'docker',\n",
      "             'lucene_version': '9.11.1',\n",
      "             'minimum_index_compatibility_version': '7.0.0',\n",
      "             'minimum_wire_compatibility_version': '7.17.0',\n",
      "             'number': '8.15.0'}}\n"
     ]
    }
   ],
   "source": [
    "from pprint import pprint\n",
    "from elasticsearch import Elasticsearch\n",
    "\n",
    "es = Elasticsearch('http://localhost:9200')\n",
    "client_info = es.info()\n",
    "print('Connected to Elasticsearch')\n",
    "pprint(client_info.body)"
   ]
  },
  {
   "cell_type": "markdown",
   "metadata": {},
   "source": [
    "# Bulk API"
   ]
  },
  {
   "cell_type": "code",
   "execution_count": 2,
   "metadata": {},
   "outputs": [
    {
     "data": {
      "text/plain": [
       "ObjectApiResponse({'acknowledged': True, 'shards_acknowledged': True, 'index': 'my_index'})"
      ]
     },
     "execution_count": 2,
     "metadata": {},
     "output_type": "execute_result"
    }
   ],
   "source": [
    "es.indices.delete(index='my_index', ignore_unavailable=True)\n",
    "es.indices.create(index='my_index')"
   ]
  },
  {
   "cell_type": "code",
   "execution_count": 3,
   "metadata": {},
   "outputs": [
    {
     "name": "stdout",
     "output_type": "stream",
     "text": [
      "{'errors': False,\n",
      " 'items': [{'index': {'_id': '1',\n",
      "                      '_index': 'my_index',\n",
      "                      '_primary_term': 1,\n",
      "                      '_seq_no': 0,\n",
      "                      '_shards': {'failed': 0, 'successful': 1, 'total': 2},\n",
      "                      '_version': 1,\n",
      "                      'result': 'created',\n",
      "                      'status': 201}},\n",
      "           {'index': {'_id': '2',\n",
      "                      '_index': 'my_index',\n",
      "                      '_primary_term': 1,\n",
      "                      '_seq_no': 1,\n",
      "                      '_shards': {'failed': 0, 'successful': 1, 'total': 2},\n",
      "                      '_version': 1,\n",
      "                      'result': 'created',\n",
      "                      'status': 201}},\n",
      "           {'index': {'_id': '3',\n",
      "                      '_index': 'my_index',\n",
      "                      '_primary_term': 1,\n",
      "                      '_seq_no': 2,\n",
      "                      '_shards': {'failed': 0, 'successful': 1, 'total': 2},\n",
      "                      '_version': 1,\n",
      "                      'result': 'created',\n",
      "                      'status': 201}},\n",
      "           {'update': {'_id': '1',\n",
      "                       '_index': 'my_index',\n",
      "                       '_primary_term': 1,\n",
      "                       '_seq_no': 3,\n",
      "                       '_shards': {'failed': 0, 'successful': 1, 'total': 2},\n",
      "                       '_version': 2,\n",
      "                       'result': 'updated',\n",
      "                       'status': 200}},\n",
      "           {'update': {'_id': '2',\n",
      "                       '_index': 'my_index',\n",
      "                       '_primary_term': 1,\n",
      "                       '_seq_no': 4,\n",
      "                       '_shards': {'failed': 0, 'successful': 1, 'total': 2},\n",
      "                       '_version': 2,\n",
      "                       'result': 'updated',\n",
      "                       'status': 200}},\n",
      "           {'delete': {'_id': '3',\n",
      "                       '_index': 'my_index',\n",
      "                       '_primary_term': 1,\n",
      "                       '_seq_no': 5,\n",
      "                       '_shards': {'failed': 0, 'successful': 1, 'total': 2},\n",
      "                       '_version': 2,\n",
      "                       'result': 'deleted',\n",
      "                       'status': 200}}],\n",
      " 'took': 24454273}\n"
     ]
    }
   ],
   "source": [
    "response = es.bulk(\n",
    "    operations=[\n",
    "        # Action 1\n",
    "        {\n",
    "            \"index\": {\n",
    "                \"_index\": \"my_index\",\n",
    "                \"_id\": \"1\"\n",
    "            }\n",
    "        },\n",
    "        # Source 1\n",
    "        {\n",
    "            \"title\": \"Sample Title 1\",\n",
    "            \"text\": \"This is the first sample document text.\",\n",
    "            \"created_on\": \"2024-09-22\"\n",
    "        },\n",
    "        # Action 2\n",
    "        {\n",
    "            \"index\": {\n",
    "                \"_index\": \"my_index\",\n",
    "                \"_id\": \"2\"\n",
    "            }\n",
    "        },\n",
    "        # Source 2\n",
    "        {\n",
    "            \"title\": \"Sample Title 2\",\n",
    "            \"text\": \"Here is another example of a document.\",\n",
    "            \"created_on\": \"2024-09-24\"\n",
    "        },\n",
    "        # Action 3\n",
    "        {\n",
    "            \"index\": {\n",
    "                \"_index\": \"my_index\",\n",
    "                \"_id\": \"3\"\n",
    "            }\n",
    "        },\n",
    "        # Source 3\n",
    "        {\n",
    "            \"title\": \"Sample Title 3\",\n",
    "            \"text\": \"The content of the third document goes here.\",\n",
    "            \"created_on\": \"2024-09-24\"\n",
    "        },\n",
    "        # Action 4\n",
    "        {\n",
    "            \"update\": {\n",
    "                \"_id\": \"1\",\n",
    "                \"_index\": \"my_index\"\n",
    "            }\n",
    "        },\n",
    "        # Source 4\n",
    "        {\n",
    "            \"script\": {\n",
    "                \"source\": \"ctx._source.title = 'Test'\"\n",
    "            }\n",
    "        },\n",
    "        # Action 5\n",
    "        {\n",
    "            \"update\": {\n",
    "                \"_id\": \"2\",\n",
    "                \"_index\": \"my_index\"\n",
    "            }\n",
    "        },\n",
    "        # Source 5\n",
    "        {\n",
    "            \"doc\": {\n",
    "                \"new_field\": \"dummy_value\"\n",
    "            }\n",
    "        },\n",
    "        # Action 6\n",
    "        {\n",
    "            \"delete\": {\n",
    "                \"_index\": \"my_index\",\n",
    "                \"_id\": \"3\"\n",
    "            }\n",
    "        },\n",
    "    ],\n",
    ")\n",
    "\n",
    "pprint(response.body)"
   ]
  }
 ],
 "metadata": {
  "kernelspec": {
   "display_name": "Python 3",
   "language": "python",
   "name": "python3"
  },
  "language_info": {
   "codemirror_mode": {
    "name": "ipython",
    "version": 3
   },
   "file_extension": ".py",
   "mimetype": "text/x-python",
   "name": "python",
   "nbconvert_exporter": "python",
   "pygments_lexer": "ipython3",
   "version": "3.11.0"
  }
 },
 "nbformat": 4,
 "nbformat_minor": 2
}
